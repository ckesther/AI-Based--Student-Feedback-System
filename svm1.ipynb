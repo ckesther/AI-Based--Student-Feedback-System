{
  "nbformat": 4,
  "nbformat_minor": 0,
  "metadata": {
    "colab": {
      "provenance": []
    },
    "kernelspec": {
      "name": "python3",
      "display_name": "Python 3"
    },
    "language_info": {
      "name": "python"
    }
  },
  "cells": [
    {
      "cell_type": "code",
      "execution_count": null,
      "metadata": {
        "colab": {
          "base_uri": "https://localhost:8080/"
        },
        "id": "jXS8_UuiL_vG",
        "outputId": "188a13d6-f966-4540-db67-a2165faeb414"
      },
      "outputs": [
        {
          "output_type": "stream",
          "name": "stdout",
          "text": [
            "SVM classifier has accuracy of 95.06762132060462 % \n"
          ]
        }
      ],
      "source": [
        "import pandas as pd\n",
        "import numpy as np\n",
        "import pickle\n",
        "import nltk\n",
        "#nltk.download()\n",
        "from sklearn.feature_extraction.text import CountVectorizer\n",
        "from sklearn.feature_extraction.text import TfidfTransformer\n",
        "from sklearn.pipeline import Pipeline\n",
        "from nltk.stem.snowball import SnowballStemmer\n",
        "from sklearn.linear_model import SGDClassifier\n",
        "from sklearn.naive_bayes import MultinomialNB\n",
        "from sklearn.tree import DecisionTreeClassifier\n",
        "\n",
        "\n",
        "class Models:\n",
        "\n",
        "    def __init__(self):\n",
        "        self.name = ''\n",
        "        path = 'trainingdatawithlabels.csv'\n",
        "        df = pd.read_csv(path)\n",
        "        df = df.dropna()\n",
        "        self.x = df['sentences']\n",
        "        self.y = df['sentiment']\n",
        "\n",
        "    \n",
        "    def svm_classifier(self):\n",
        "        self.name = 'SVM classifier'\n",
        "        classifier = Pipeline([('vect', CountVectorizer()), ('tfidf', TfidfTransformer()),('clf-svm', SGDClassifier(loss='hinge', penalty='l2',alpha=1e-3, random_state=42))])\n",
        "        classifier = classifier.fit(self.x, self.y)\n",
        "        pickle.dump(classifier,open(self.name + '.pkl', \"wb\"))\n",
        "        return classifier\n",
        "\n",
        "   \n",
        "    def accuracy(self, model):\n",
        "        predicted = model.predict(self.x)\n",
        "        accuracy = np.mean(predicted == self.y)\n",
        "        print(f\"{self.name} has accuracy of {accuracy * 100} % \")\n",
        "\n",
        "if __name__ == '__main__':\n",
        "    model = Models()\n",
        "    #model.accuracy(model.mnb_classifier())\n",
        "    model.accuracy(model.svm_classifier())\n",
        "    #model.accuracy(model.mnb_stemmed_classifier())\n",
        "    #model.accuracy(model.svm_stemmed_classifier())"
      ]
    },
    {
      "cell_type": "code",
      "source": [],
      "metadata": {
        "id": "Jx7Dw6jTxyJ9"
      },
      "execution_count": null,
      "outputs": []
    },
    {
      "cell_type": "code",
      "source": [
        "model = pickle.load(open('SVM classifier.pkl', 'rb'))\n",
        "teachingscore = model.predict(pd.array([\"fantastic\"]))\n",
        "print(teachingscore[0])"
      ],
      "metadata": {
        "colab": {
          "base_uri": "https://localhost:8080/"
        },
        "id": "H1TSZaiOQ3aJ",
        "outputId": "921cca01-ec89-482c-c7c8-d259dabe5c1c"
      },
      "execution_count": null,
      "outputs": [
        {
          "output_type": "stream",
          "name": "stdout",
          "text": [
            "1\n"
          ]
        }
      ]
    }
  ]
}